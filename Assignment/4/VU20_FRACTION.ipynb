{
  "nbformat": 4,
  "nbformat_minor": 0,
  "metadata": {
    "colab": {
      "name": "VU20_FRACTION.ipynb",
      "provenance": [],
      "collapsed_sections": [],
      "authorship_tag": "ABX9TyNep9dCokMgq08XvaIB4jko",
      "include_colab_link": true
    },
    "kernelspec": {
      "name": "python3",
      "display_name": "Python 3"
    },
    "language_info": {
      "name": "python"
    }
  },
  "cells": [
    {
      "cell_type": "markdown",
      "metadata": {
        "id": "view-in-github",
        "colab_type": "text"
      },
      "source": [
        "<a href=\"https://colab.research.google.com/github/KBGIBN/L23.KHCL.N01/blob/main/Assignment/4/VU20_FRACTION.ipynb\" target=\"_parent\"><img src=\"https://colab.research.google.com/assets/colab-badge.svg\" alt=\"Open In Colab\"/></a>"
      ]
    },
    {
      "cell_type": "markdown",
      "metadata": {
        "id": "-qpi-RrpxNUJ"
      },
      "source": [
        "#VU20_FRACTION - PHÂN SỐ\n",
        "\n",
        "Cho 2 phân số đúng và tối giản $a/b$ , $c/d$. Mỗi phép biến đổi là tăng a và b lên 1, sau đó giản ước phân số nhận được.\n",
        "\n",
        "Hãy xác định sau bao nhiêu bước biến đổi từ phân số thứ nhất ban đầu nhận được phân số thứ 2 đã cho.\n",
        "\n",
        "Dữ liệu: Vào từ thiết bị nhập chuẩn gồm 4 dòng, mỗi dòng chứa 1 số nguyên a, b, c, d, 0 < a < b ≤ $10^5$, 0 < c < d ≤ $10^5$, a và b nguyên tố cùng nhau, c và d nguyên tố cùng nhau $a/b$ ≠  $c/d$\n",
        "\n",
        "Kết quả: Đưa ra thiết bị xuất chuẩn số 0 nếu không có cách biến đổi hoặc một số nguyên – số lượng phép biến đổi.\n",
        "\n",
        "\n",
        "Ví dụ:\n",
        "\n",
        "**INPUT**\n",
        "\n",
        "1 6 2 3\n",
        " \n",
        "\n",
        "\n",
        "**OUTPUT**\n",
        "\n",
        "5\n",
        "\n"
      ]
    },
    {
      "cell_type": "markdown",
      "metadata": {
        "id": "LIAFoD3_4NLL"
      },
      "source": [
        "#1. Abstraction\n",
        "Có ***phép biến đổi*** phân số như sau: cộng tử số và mẫu số thêm 1 đơn vị, sau đó rút gọn phân số đó.\n",
        "\n",
        "**Bài toán:** Cho 2 phân số $a/b$ và $c/d$ (0 < a < b ≤ $10^5$, 0 < c < d ≤ $10^5$) , tìm X là số lần thực hiện ***phép biến đổi*** để $a/b$ = $c/d$"
      ]
    },
    {
      "cell_type": "markdown",
      "metadata": {
        "id": "4QzAp_WY58ge"
      },
      "source": [
        "#2. Pattern Recognition\n",
        "\n",
        "Đây là bài toán yêu cầu sử dụng giải thuật Brute Force, cụ thể là chúng ta sẽ xem xét điều kiện $a/b < c/d$ cho mỗi lần thực hiện ***phép biến đổi***."
      ]
    },
    {
      "cell_type": "markdown",
      "metadata": {
        "id": "rA8ZLYI-623n"
      },
      "source": [
        "#3. Algorithm Designed\n",
        "\n",
        "Ta có a, b, c, d:\n",
        "\n",
        "**Bước 1:** Đặt X = 0 là biến đếm số lần thực hiện phép biến đổi.\n",
        "\n",
        "**Bước 2:** Xét điều kiện $a/b < c/d$, nếu *Sai* thì nhảy sang **Bước 4**.\n",
        "\n",
        "**Bước 3:**\n",
        "  * a = a + 1; b = b + 1; X = X + 1.\n",
        "  * Rút gọn phân số $a/b$.\n",
        "  * Quay lại **Bước 2**.\n",
        "\n",
        "**Bước 4:** Xét điều kiện $a/b > c/d$, nếu *Đúng* thì: X = 0.\n",
        "\n",
        "**Bước 5:** Trả về X. Kết thúc thuật toán."
      ]
    },
    {
      "cell_type": "markdown",
      "metadata": {
        "id": "ZUW0K6G7_nlM"
      },
      "source": [
        "#4. Time Complexity: $O(n^2)$\n",
        "\n",
        "Có thể thấy\n",
        "* Khi thực hiện phép biến đổi, để rút gọn phân số chúng ta cần tìm Ước chung lớn nhất (UCLN) của tử số và mẫu số, hơn nữa việc tìm UCLN cần thực hiện trong 1 vòng lặp.\n",
        "* Vòng lặp xét điều kiện $a/b < c/d$ có lồng bên trong vòng lặp tính UCLN của phép biến đổi.\n",
        "\n",
        "Vì vậy độ phức tạp của thuật toán là: $O(n^2)$"
      ]
    },
    {
      "cell_type": "markdown",
      "metadata": {
        "id": "00bAydSOBr2A"
      },
      "source": [
        "#5. Programming"
      ]
    },
    {
      "cell_type": "code",
      "metadata": {
        "colab": {
          "base_uri": "https://localhost:8080/"
        },
        "id": "8usrzq3ewtYA",
        "outputId": "fc9c34c3-b08b-4584-bae9-3bde3a469b33"
      },
      "source": [
        "from math import gcd #gcd là hàm tính Ước chung lớn nhất\n",
        "\n",
        "def RutGon(a, b):\n",
        "    x1 = int(a)/gcd(int(a), int(b))\n",
        "    x2 = int(b)/gcd(int(a), int(b))\n",
        "    return x1, x2\n",
        "\n",
        "def PhanSo(a, b, c, d):\n",
        "    count = int(0)\n",
        "    x1 = a\n",
        "    x2 = b\n",
        "    while (x1/x2 < c/d):\n",
        "        x1 += 1\n",
        "        x2 += 1\n",
        "        count += 1\n",
        "        x1, x2 = RutGon(x1, x2)\n",
        "    if (x1/x2 > c/d):\n",
        "        count = int(0)\n",
        "    return count\n",
        "\n",
        "def main():\n",
        "  a = int(input())\n",
        "  b = int(input())\n",
        "  c = int(input())\n",
        "  d = int(input())\n",
        "  result = PhanSo(a,b,c,d)\n",
        "  print(result)\n",
        "\n",
        "if __name__ == '__main__':\n",
        "  main()"
      ],
      "execution_count": null,
      "outputs": [
        {
          "output_type": "stream",
          "text": [
            "1\n",
            "6\n",
            "2\n",
            "3\n",
            "5\n"
          ],
          "name": "stdout"
        }
      ]
    }
  ]
}