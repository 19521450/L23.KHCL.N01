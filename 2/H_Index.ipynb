{
  "nbformat": 4,
  "nbformat_minor": 0,
  "metadata": {
    "colab": {
      "name": "Untitled3.ipynb",
      "provenance": [],
      "collapsed_sections": [],
      "authorship_tag": "ABX9TyPGCgMEUk3/6e8XJcs2xL57",
      "include_colab_link": true
    },
    "kernelspec": {
      "name": "python3",
      "display_name": "Python 3"
    },
    "language_info": {
      "name": "python"
    }
  },
  "cells": [
    {
      "cell_type": "markdown",
      "metadata": {
        "id": "view-in-github",
        "colab_type": "text"
      },
      "source": [
        "<a href=\"https://colab.research.google.com/github/KBGIBN/L23.KHCL.N01/blob/main/2/H_Index.ipynb\" target=\"_parent\"><img src=\"https://colab.research.google.com/assets/colab-badge.svg\" alt=\"Open In Colab\"/></a>"
      ]
    },
    {
      "cell_type": "markdown",
      "metadata": {
        "id": "QBuFdr7o7Alu"
      },
      "source": [
        "#H-Index\n",
        "Làm thế nào để đánh giá sự thành công của một nhà khoa học?  Dựa vào số bài báo được công bố hay dựa vào số lần một bài báo được trích dẫn tới ở công trình của những người khác? Cả hai tham số đó đều quan trọng.\n",
        "\n",
        "Một bài báo có điểm số trích dẫn là c nếu nó được trích dẫn tới c lần trong các công trình của những nhà khoa học khác. Một trong số các cách đánh giá sự thành công của một nhà khoa học là tính chỉ số ảnh hưởng H_Index dựa trên sự kết hợp giữa số lượng bài báo và chỉ số trích dẫn của các bài báo đó.\n",
        "\n",
        "Chỉ số H_Indexcủa một nhà khoa học bằng k lớn nhất nếu người đó có k bài báo, mỗi bài có điểm số trích dẫn không nhỏ hơn k. Ví dụ, một người có 10 bài báo, mỗi bài báo được trích dẫn không dưới 10 lần thì H_Index của người đó ít nhất là bằng 10.\n",
        "\n",
        "Một người có n bài báo, bài báo thứ i có điểm trích dẫn là ci, i = 1 ÷ n. Hãy xác định H_Index của người đó.\n",
        "\n",
        "\n",
        "**Dữ liệu: Vào từ thiết bị nhập chuẩn:**\n",
        "* Dòng đầu tiên chứa một số nguyên n (1 ≤ n ≤ 5×10^5),\n",
        "* Dòng thứ 2 chứa n số nguyên c1, c2, . . ., cn (0 ≤ ci ≤ 10^6, i = 1 ÷ n).\n",
        "\n",
        "**Kết quả: Đưa ra thiết bị xuất chuẩn một số nguyên – H_Index tìm được.**\n",
        "  \n",
        "  **Ví dụ:**\n",
        "  \n",
        "  *INPUT*\n",
        "  \n",
        "  5\n",
        "\n",
        "  8 5 3 4 10\n",
        "\n",
        "  *OUTPUT*\n",
        "\n",
        "  4\n",
        "\n",
        " "
      ]
    },
    {
      "cell_type": "markdown",
      "metadata": {
        "id": "FKpfqlln8YzS"
      },
      "source": [
        "#Abstraction\n",
        "\n",
        "Cho một mảng có N phần tử, tìm ra 1 số X là lớn nhất, sao cho toàn bộ X phần tử trong mảng có giá trị lớn hơn hoặc bằng X."
      ]
    },
    {
      "cell_type": "markdown",
      "metadata": {
        "id": "IflsmCTS9sYX"
      },
      "source": [
        "#Pattern Recognition\n",
        "\n",
        "Ý tưởng: sử dụng thuật toán sắp xếp.\n",
        "\n",
        "*Với n là số phần tử của mảng*\n",
        "* B1: Sắp xếp các phần tử trong mảng theo thứ tự giảm dần.\n",
        "* B2: Ban đầu H_Index = 0 và vòng lặp chạy từ phần tử đầu tiên\n",
        "  * So sánh thứ tự và giá trị của phần tử đang xét, lấy số nhỏ hơn.\n",
        "  * So sánh H_Index và số nhỏ hơn ở trên, rồi gán H_Index bằng số lớn hơn.\n",
        "\n",
        "\n"
      ]
    },
    {
      "cell_type": "markdown",
      "metadata": {
        "id": "gds0f5-C-Jt0"
      },
      "source": [
        "#Algorithm Design\n",
        "* B1: Sắp xếp mảng A theo thứ tự giảm dần.\n",
        "* B2: H_Index = 0, cho i chạy từ 1 đến n:\n",
        "  * H_Index = max( H_Index, min(i, A[ i ]) )\n",
        "  * Nếu A[i] < H_Index thì thoát khỏi vòng lặp vì đến đây không còn khả năng tăng H_Index thêm được nữa.\n",
        "* B3: Trả về H_Index là số cần tìm."
      ]
    },
    {
      "cell_type": "markdown",
      "metadata": {
        "id": "00NtE7Zm5zBJ"
      },
      "source": [
        "Code:"
      ]
    },
    {
      "cell_type": "code",
      "metadata": {
        "id": "fFqWtldN5ePH"
      },
      "source": [
        "def hIndex(citations) -> int:\n",
        "\t# The sorting is what makes this n log n\n",
        "    citations.sort(reverse=True)\n",
        "\n",
        "    h_index = 0\n",
        "    for i, citation in enumerate(citations):\n",
        "\t\t# The h index is the number of citations whose citation count is >= h_index\n",
        "        h_index = max(h_index, min(i + 1, citation))\n",
        "\n",
        "        # impossible to improve the h index past this point\n",
        "        if citation < h_index:\n",
        "            break\n",
        "            \n",
        "    return h_index\n",
        "\n",
        "n = int(input())\n",
        "a = list(map(int,input().split()))\n",
        "\n",
        "print(hIndex(a))"
      ],
      "execution_count": null,
      "outputs": []
    }
  ]
}